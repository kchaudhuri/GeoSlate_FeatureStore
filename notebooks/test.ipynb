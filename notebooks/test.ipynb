{
 "cells": [
  {
   "cell_type": "code",
   "execution_count": 1,
   "id": "29ff616f",
   "metadata": {},
   "outputs": [],
   "source": [
    "import numpy as np"
   ]
  },
  {
   "cell_type": "code",
   "execution_count": 2,
   "id": "039a21d9",
   "metadata": {},
   "outputs": [],
   "source": [
    "import sys\n",
    "sys.path.append(\"/Users/kaustubhchaudhuri/Lab/Personal/Workbench/Libraries/FeatureStore_CleanSlate\")"
   ]
  },
  {
   "cell_type": "code",
   "execution_count": 11,
   "id": "eb3d3b7e",
   "metadata": {},
   "outputs": [
    {
     "data": {
      "text/plain": [
       "['/Users/kaustubhchaudhuri/miniforge3/envs/nlp_env/lib/python310.zip',\n",
       " '/Users/kaustubhchaudhuri/miniforge3/envs/nlp_env/lib/python3.10',\n",
       " '/Users/kaustubhchaudhuri/miniforge3/envs/nlp_env/lib/python3.10/lib-dynload',\n",
       " '',\n",
       " '/Users/kaustubhchaudhuri/miniforge3/envs/nlp_env/lib/python3.10/site-packages',\n",
       " '/Users/kaustubhchaudhuri/Lab/Personal/Workbench',\n",
       " '/Users/kaustubhchaudhuri/Lab/Personal/Workbench/Libraries/FeatureStore_CleanSlate']"
      ]
     },
     "execution_count": 11,
     "metadata": {},
     "output_type": "execute_result"
    }
   ],
   "source": [
    "sys.path"
   ]
  },
  {
   "cell_type": "code",
   "execution_count": 6,
   "id": "57166c9b",
   "metadata": {},
   "outputs": [],
   "source": [
    "from feature_store.feature_store import FeatureStore"
   ]
  },
  {
   "cell_type": "code",
   "execution_count": 8,
   "id": "b1a6dd79",
   "metadata": {},
   "outputs": [],
   "source": [
    "fs = FeatureStore(4)"
   ]
  },
  {
   "cell_type": "code",
   "execution_count": 9,
   "id": "83b76648",
   "metadata": {},
   "outputs": [
    {
     "data": {
      "text/plain": [
       "<feature_store.feature_store.FeatureStore at 0x107a1dd50>"
      ]
     },
     "execution_count": 9,
     "metadata": {},
     "output_type": "execute_result"
    }
   ],
   "source": [
    "fs"
   ]
  },
  {
   "cell_type": "code",
   "execution_count": null,
   "id": "f482052f",
   "metadata": {},
   "outputs": [],
   "source": []
  }
 ],
 "metadata": {
  "kernelspec": {
   "display_name": "Python 3 (ipykernel)",
   "language": "python",
   "name": "python3"
  },
  "language_info": {
   "codemirror_mode": {
    "name": "ipython",
    "version": 3
   },
   "file_extension": ".py",
   "mimetype": "text/x-python",
   "name": "python",
   "nbconvert_exporter": "python",
   "pygments_lexer": "ipython3",
   "version": "3.10.17"
  }
 },
 "nbformat": 4,
 "nbformat_minor": 5
}
